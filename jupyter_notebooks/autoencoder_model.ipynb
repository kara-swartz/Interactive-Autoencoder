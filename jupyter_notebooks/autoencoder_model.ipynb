{
 "cells": [
  {
   "cell_type": "code",
   "execution_count": 1,
   "metadata": {},
   "outputs": [],
   "source": [
    "import torch\n",
    "from torch import nn, cuda, optim, tensor\n",
    "from torchvision import datasets, transforms\n",
    "import matplotlib.pyplot as plt\n",
    "import numpy as np"
   ]
  },
  {
   "cell_type": "code",
   "execution_count": 2,
   "metadata": {},
   "outputs": [],
   "source": [
    "test_dataset = datasets.MNIST(root='../app/mnist_data/', train=False, transform=transforms.ToTensor(), download=False)\n",
    "test_loader = torch.utils.data.DataLoader(dataset=test_dataset, batch_size=128, shuffle=False)"
   ]
  },
  {
   "cell_type": "code",
   "execution_count": 3,
   "metadata": {},
   "outputs": [],
   "source": [
    "class Encoder(nn.Module):\n",
    "\n",
    "    def __init__(self, input_size, latent_size, num_neurons):\n",
    "        super(Encoder, self).__init__()\n",
    "\n",
    "        self.layers = nn.ModuleList()\n",
    "\n",
    "        old_out = input_size\n",
    "        for layer_size in num_neurons:\n",
    "            new_layer = nn.Sequential(\n",
    "                nn.Linear(old_out, layer_size),\n",
    "                nn.ReLU(True),\n",
    "            )\n",
    "            new_layer = nn.DataParallel(new_layer)\n",
    "            self.layers.append(new_layer)\n",
    "\n",
    "            old_out = layer_size\n",
    "\n",
    "        self.latent_layer = nn.Sequential(\n",
    "            nn.Linear(old_out, latent_size),\n",
    "            nn.ReLU(True),\n",
    "        )\n",
    "        self.latent_layer = nn.DataParallel(self.latent_layer)\n",
    "\n",
    "    def forward(self, x):\n",
    "\n",
    "        out = x\n",
    "        for l in self.layers:\n",
    "            out = l(out)\n",
    "\n",
    "        return self.latent_layer(out)"
   ]
  },
  {
   "cell_type": "code",
   "execution_count": 4,
   "metadata": {},
   "outputs": [],
   "source": [
    "class Decoder(nn.Module):\n",
    "\n",
    "    def __init__(self, input_size, latent_size, num_neurons):\n",
    "        super(Decoder, self).__init__()\n",
    "\n",
    "        self.layers = nn.ModuleList()\n",
    "\n",
    "        old_out = latent_size\n",
    "        for layer_size in num_neurons:\n",
    "            new_layer = nn.Sequential(\n",
    "                nn.Linear(old_out, layer_size),\n",
    "                nn.ReLU(True),\n",
    "            )\n",
    "            new_layer = nn.DataParallel(new_layer)\n",
    "            self.layers.append(new_layer)\n",
    "\n",
    "            old_out = layer_size\n",
    "\n",
    "        self.latent_layer = nn.Sequential(\n",
    "            nn.Linear(old_out, input_size),\n",
    "            nn.ReLU(True),\n",
    "        )\n",
    "        self.latent_layer = nn.DataParallel(self.latent_layer)\n",
    "\n",
    "    def forward(self, x):\n",
    "\n",
    "        out = x\n",
    "        for l in self.layers:\n",
    "            out = l(out)\n",
    "\n",
    "        return self.latent_layer(out)"
   ]
  },
  {
   "cell_type": "code",
   "execution_count": 5,
   "metadata": {},
   "outputs": [],
   "source": [
    "class EncoderDecoder(nn.Module):\n",
    "\n",
    "    def __init__(self, encoder, decoder):\n",
    "        super(EncoderDecoder, self).__init__()\n",
    "\n",
    "        self.encoder = encoder\n",
    "        self.decoder = decoder\n",
    "\n",
    "    def forward(self, state):\n",
    "        latent = self.encoder(state)\n",
    "        output = self.decoder(latent)\n",
    "        return output"
   ]
  },
  {
   "cell_type": "code",
   "execution_count": 6,
   "metadata": {},
   "outputs": [],
   "source": [
    "class AutoEncoder:\n",
    "\n",
    "    def __init__(self, n_components=2, num_neurons=[200, 100], num_epochs=10):\n",
    "\n",
    "        self.n_components = n_components\n",
    "        self.num_neurons = num_neurons\n",
    "        self.num_epochs = num_epochs\n",
    "\n",
    "    def fit_transform(self, data):\n",
    "\n",
    "        num_epochs = self.num_epochs\n",
    "        batch_size = 100\n",
    "        learning_rate = 1e-3\n",
    "        criterion = nn.MSELoss()\n",
    "\n",
    "        input_size = data.shape[1]\n",
    "\n",
    "        self.encoder = Encoder(input_size, self.n_components, self.num_neurons)\n",
    "        self.decoder = Decoder(input_size, self.n_components, self.num_neurons)\n",
    "\n",
    "        if cuda.is_available():\n",
    "            self.encoder = self.encoder.cuda()\n",
    "            self.decoder = self.decoder.cuda()\n",
    "\n",
    "        self.autoencoder = EncoderDecoder(self.encoder, self.decoder)\n",
    "\n",
    "        if cuda.is_available():\n",
    "            self.autoencoder = self.autoencoder.cuda()\n",
    "\n",
    "        self.model = self.autoencoder\n",
    "\n",
    "        optimizer = optim.Adam(self.model.parameters(), lr=learning_rate)\n",
    "\n",
    "        for epoch in range(num_epochs):\n",
    "            for i in range(int(data.shape[0] / batch_size)):\n",
    "                batch = data[i * batch_size:(i + 1) * batch_size]\n",
    "                batch = tensor(batch, dtype=torch.float)\n",
    "                if cuda.is_available():\n",
    "                    batch = batch.cuda()\n",
    "                # ===================forward=====================\n",
    "                output = self.model(batch)\n",
    "                loss = criterion(output, batch)\n",
    "                # ===================backward====================\n",
    "                optimizer.zero_grad()\n",
    "                loss.backward()\n",
    "                optimizer.step()\n",
    "\n",
    "        data = tensor(data, dtype=torch.float)\n",
    "        if cuda.is_available():\n",
    "            data = data.cuda()\n",
    "        output = self.encoder(data)\n",
    "        if cuda.is_available():\n",
    "            output = output.cpu()\n",
    "        return output.detach().numpy()\n",
    "    \n",
    "    def img_fn(self):\n",
    "        # obtain one batch of test images\n",
    "        dataiter = iter(test_loader)\n",
    "        images, labels = dataiter.next()\n",
    "\n",
    "        with torch.no_grad():\n",
    "            images_flatten = images.view(images.size(0), -1)\n",
    "            images_flatten = images_flatten.cuda()\n",
    "            # get sample outputs\n",
    "            output = self.model(images_flatten)\n",
    "            # prep images for display\n",
    "            return output, images.numpy()"
   ]
  },
  {
   "cell_type": "code",
   "execution_count": 9,
   "metadata": {},
   "outputs": [
    {
     "name": "stdout",
     "output_type": "stream",
     "text": [
      "Start projection training\n",
      "Training done 3.9676811520002957\n"
     ]
    }
   ],
   "source": [
    "if __name__ == \"__main__\":\n",
    "    import timeit\n",
    "    import torchvision\n",
    "    import torch\n",
    "    from torchvision import datasets, transforms\n",
    "\n",
    "    import numpy as np\n",
    "\n",
    "    dataset = torchvision.datasets.MNIST(\n",
    "        './data/', download=True, transform=transforms.ToTensor())\n",
    "    dataloader = torch.utils.data.DataLoader(dataset, batch_size=10000000)\n",
    "    points = [1, 2, 3, 4, 5]\n",
    "\n",
    "    print('Start projection training')\n",
    "    ae = AutoEncoder()\n",
    "    for data in dataloader:\n",
    "        data = data[0].numpy()\n",
    "        data = data[points]\n",
    "        data = data.reshape((data.shape[0], -1))\n",
    "        data = data.astype(np.float32)\n",
    "\n",
    "        start_time = timeit.default_timer()\n",
    "        dim_reducted = ae.fit_transform(data)\n",
    "        print('Training done', timeit.default_timer() - start_time)\n",
    "        #print(dim_reducted)"
   ]
  },
  {
   "cell_type": "code",
   "execution_count": 10,
   "metadata": {},
   "outputs": [
    {
     "data": {
      "text/plain": [
       "array([[0.07226029, 0.1304933 ],\n",
       "       [0.08331347, 0.10019022],\n",
       "       [0.06701024, 0.07883672],\n",
       "       [0.09453031, 0.16491795],\n",
       "       [0.10166308, 0.11615867]], dtype=float32)"
      ]
     },
     "execution_count": 10,
     "metadata": {},
     "output_type": "execute_result"
    }
   ],
   "source": [
    "dim_reducted"
   ]
  },
  {
   "cell_type": "code",
   "execution_count": null,
   "metadata": {},
   "outputs": [],
   "source": [
    "decoded, images = ae.img_fn()\n",
    "# output is resized into a batch of images\n",
    "output = decoded.view(128, 1, 28, 28)\n",
    "# use detach when it's an output that requires_grad\n",
    "output = output.detach().cpu().numpy()\n",
    "\n",
    "# plot the first ten input images and then reconstructed images\n",
    "fig, axes = plt.subplots(nrows=2, ncols=10, sharex=True, sharey=True, figsize=(25,4))\n",
    "\n",
    "# input images on top row, reconstructions on bottom\n",
    "for images, row in zip([images, output], axes):\n",
    "    for img, ax in zip(images, row):\n",
    "        ax.imshow(np.squeeze(img), cmap='gray')\n",
    "        ax.get_xaxis().set_visible(False)\n",
    "        ax.get_yaxis().set_visible(False)"
   ]
  }
 ],
 "metadata": {
  "kernelspec": {
   "display_name": "Python 3",
   "language": "python",
   "name": "python3"
  },
  "language_info": {
   "codemirror_mode": {
    "name": "ipython",
    "version": 3
   },
   "file_extension": ".py",
   "mimetype": "text/x-python",
   "name": "python",
   "nbconvert_exporter": "python",
   "pygments_lexer": "ipython3",
   "version": "3.7.4"
  }
 },
 "nbformat": 4,
 "nbformat_minor": 2
}
