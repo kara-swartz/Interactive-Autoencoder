{
 "cells": [
  {
   "cell_type": "code",
   "execution_count": 1,
   "metadata": {
    "scrolled": true
   },
   "outputs": [],
   "source": [
    "import torch\n",
    "import torch.nn as nn\n",
    "import torch.utils.data as Data\n",
    "import torch.nn as nn\n",
    "from torch.autograd import Variable\n",
    "from sklearn.datasets import load_iris\n",
    "import numpy\n",
    "import pickle\n",
    "import dill as dill\n",
    "#loading iris data from sklearn\n",
    "iris = load_iris()\n",
    "x_data=iris.data\n",
    "y_data=iris.target\n",
    "\n",
    "#numpy to pytorch variable\n",
    "x_data = Variable(torch.Tensor(x_data).float())\n",
    "y_data = Variable(torch.tensor(y_data).float())\n",
    "\n",
    "#batch size\n",
    "batch_size=150\n",
    "\n",
    "EPOCH = 10"
   ]
  },
  {
   "cell_type": "code",
   "execution_count": 2,
   "metadata": {},
   "outputs": [],
   "source": [
    "class AutoEncoder(nn.Module):\n",
    "    def __init__(self):\n",
    "        super(AutoEncoder, self).__init__()\n",
    "\n",
    "        self.encoder = nn.Sequential(\n",
    "            nn.Linear(4, 2),\n",
    "            nn.Tanh(),\n",
    "        )\n",
    "        self.decoder = nn.Sequential(\n",
    "            nn.Linear(2, 4),\n",
    "            nn.Tanh(),       # compress to a range (0, 1)\n",
    "        )\n",
    "\n",
    "    def forward(self, x):\n",
    "        encoded = self.encoder(x)\n",
    "        decoded = self.decoder(encoded)\n",
    "        return encoded, decoded"
   ]
  },
  {
   "cell_type": "code",
   "execution_count": 3,
   "metadata": {},
   "outputs": [
    {
     "name": "stdout",
     "output_type": "stream",
     "text": [
      "AutoEncoder(\n",
      "  (encoder): Sequential(\n",
      "    (0): Linear(in_features=4, out_features=2, bias=True)\n",
      "    (1): Tanh()\n",
      "  )\n",
      "  (decoder): Sequential(\n",
      "    (0): Linear(in_features=2, out_features=4, bias=True)\n",
      "    (1): Tanh()\n",
      "  )\n",
      ")\n"
     ]
    }
   ],
   "source": [
    "autoencoder = AutoEncoder()\n",
    "loss_fun = nn.MSELoss()\n",
    "opt= torch.optim.SGD(autoencoder.parameters(),lr=0.01)\n",
    "#model summary\n",
    "print(autoencoder)"
   ]
  },
  {
   "cell_type": "code",
   "execution_count": 5,
   "metadata": {},
   "outputs": [
    {
     "name": "stdout",
     "output_type": "stream",
     "text": [
      "number of epoch 0 loss tensor(10.2860)\n",
      "number of epoch 1 loss tensor(10.2828)\n",
      "number of epoch 2 loss tensor(10.2797)\n",
      "number of epoch 3 loss tensor(10.2767)\n",
      "number of epoch 4 loss tensor(10.2737)\n",
      "number of epoch 5 loss tensor(10.2708)\n",
      "number of epoch 6 loss tensor(10.2679)\n",
      "number of epoch 7 loss tensor(10.2651)\n",
      "number of epoch 8 loss tensor(10.2623)\n",
      "number of epoch 9 loss tensor(10.2596)\n",
      "number of epoch 10 loss tensor(10.2569)\n",
      "number of epoch 11 loss tensor(10.2543)\n",
      "number of epoch 12 loss tensor(10.2517)\n",
      "number of epoch 13 loss tensor(10.2492)\n",
      "number of epoch 14 loss tensor(10.2467)\n",
      "number of epoch 15 loss tensor(10.2443)\n",
      "number of epoch 16 loss tensor(10.2419)\n",
      "number of epoch 17 loss tensor(10.2395)\n",
      "number of epoch 18 loss tensor(10.2372)\n",
      "number of epoch 19 loss tensor(10.2350)\n",
      "number of epoch 20 loss tensor(10.2327)\n",
      "number of epoch 21 loss tensor(10.2305)\n",
      "number of epoch 22 loss tensor(10.2284)\n",
      "number of epoch 23 loss tensor(10.2262)\n",
      "number of epoch 24 loss tensor(10.2241)\n",
      "number of epoch 25 loss tensor(10.2221)\n",
      "number of epoch 26 loss tensor(10.2201)\n",
      "number of epoch 27 loss tensor(10.2181)\n",
      "number of epoch 28 loss tensor(10.2161)\n",
      "number of epoch 29 loss tensor(10.2142)\n",
      "number of epoch 30 loss tensor(10.2123)\n",
      "number of epoch 31 loss tensor(10.2104)\n",
      "number of epoch 32 loss tensor(10.2085)\n",
      "number of epoch 33 loss tensor(10.2067)\n",
      "number of epoch 34 loss tensor(10.2049)\n",
      "number of epoch 35 loss tensor(10.2032)\n",
      "number of epoch 36 loss tensor(10.2014)\n",
      "number of epoch 37 loss tensor(10.1997)\n",
      "number of epoch 38 loss tensor(10.1980)\n",
      "number of epoch 39 loss tensor(10.1964)\n",
      "number of epoch 40 loss tensor(10.1947)\n",
      "number of epoch 41 loss tensor(10.1931)\n",
      "number of epoch 42 loss tensor(10.1915)\n",
      "number of epoch 43 loss tensor(10.1900)\n",
      "number of epoch 44 loss tensor(10.1884)\n",
      "number of epoch 45 loss tensor(10.1869)\n",
      "number of epoch 46 loss tensor(10.1854)\n",
      "number of epoch 47 loss tensor(10.1839)\n",
      "number of epoch 48 loss tensor(10.1825)\n",
      "number of epoch 49 loss tensor(10.1810)\n",
      "number of epoch 50 loss tensor(10.1796)\n",
      "number of epoch 51 loss tensor(10.1782)\n",
      "number of epoch 52 loss tensor(10.1768)\n",
      "number of epoch 53 loss tensor(10.1754)\n",
      "number of epoch 54 loss tensor(10.1741)\n",
      "number of epoch 55 loss tensor(10.1727)\n",
      "number of epoch 56 loss tensor(10.1714)\n",
      "number of epoch 57 loss tensor(10.1701)\n",
      "number of epoch 58 loss tensor(10.1689)\n",
      "number of epoch 59 loss tensor(10.1676)\n",
      "number of epoch 60 loss tensor(10.1663)\n",
      "number of epoch 61 loss tensor(10.1651)\n",
      "number of epoch 62 loss tensor(10.1639)\n",
      "number of epoch 63 loss tensor(10.1627)\n",
      "number of epoch 64 loss tensor(10.1615)\n",
      "number of epoch 65 loss tensor(10.1603)\n",
      "number of epoch 66 loss tensor(10.1592)\n",
      "number of epoch 67 loss tensor(10.1580)\n",
      "number of epoch 68 loss tensor(10.1569)\n",
      "number of epoch 69 loss tensor(10.1558)\n",
      "number of epoch 70 loss tensor(10.1547)\n",
      "number of epoch 71 loss tensor(10.1536)\n",
      "number of epoch 72 loss tensor(10.1525)\n",
      "number of epoch 73 loss tensor(10.1514)\n",
      "number of epoch 74 loss tensor(10.1504)\n",
      "number of epoch 75 loss tensor(10.1493)\n",
      "number of epoch 76 loss tensor(10.1483)\n",
      "number of epoch 77 loss tensor(10.1473)\n",
      "number of epoch 78 loss tensor(10.1463)\n",
      "number of epoch 79 loss tensor(10.1453)\n",
      "number of epoch 80 loss tensor(10.1443)\n",
      "number of epoch 81 loss tensor(10.1433)\n",
      "number of epoch 82 loss tensor(10.1424)\n",
      "number of epoch 83 loss tensor(10.1414)\n",
      "number of epoch 84 loss tensor(10.1405)\n",
      "number of epoch 85 loss tensor(10.1395)\n",
      "number of epoch 86 loss tensor(10.1386)\n",
      "number of epoch 87 loss tensor(10.1377)\n",
      "number of epoch 88 loss tensor(10.1368)\n",
      "number of epoch 89 loss tensor(10.1359)\n",
      "number of epoch 90 loss tensor(10.1350)\n",
      "number of epoch 91 loss tensor(10.1342)\n",
      "number of epoch 92 loss tensor(10.1333)\n",
      "number of epoch 93 loss tensor(10.1324)\n",
      "number of epoch 94 loss tensor(10.1316)\n",
      "number of epoch 95 loss tensor(10.1308)\n",
      "number of epoch 96 loss tensor(10.1299)\n",
      "number of epoch 97 loss tensor(10.1291)\n",
      "number of epoch 98 loss tensor(10.1283)\n",
      "number of epoch 99 loss tensor(10.1275)\n",
      "number of epoch 100 loss tensor(10.1267)\n",
      "number of epoch 101 loss tensor(10.1259)\n",
      "number of epoch 102 loss tensor(10.1251)\n",
      "number of epoch 103 loss tensor(10.1244)\n",
      "number of epoch 104 loss tensor(10.1236)\n",
      "number of epoch 105 loss tensor(10.1229)\n",
      "number of epoch 106 loss tensor(10.1221)\n",
      "number of epoch 107 loss tensor(10.1214)\n",
      "number of epoch 108 loss tensor(10.1206)\n",
      "number of epoch 109 loss tensor(10.1199)\n",
      "number of epoch 110 loss tensor(10.1192)\n",
      "number of epoch 111 loss tensor(10.1185)\n",
      "number of epoch 112 loss tensor(10.1178)\n",
      "number of epoch 113 loss tensor(10.1171)\n",
      "number of epoch 114 loss tensor(10.1164)\n",
      "number of epoch 115 loss tensor(10.1157)\n",
      "number of epoch 116 loss tensor(10.1150)\n",
      "number of epoch 117 loss tensor(10.1143)\n",
      "number of epoch 118 loss tensor(10.1137)\n",
      "number of epoch 119 loss tensor(10.1130)\n",
      "number of epoch 120 loss tensor(10.1124)\n",
      "number of epoch 121 loss tensor(10.1117)\n",
      "number of epoch 122 loss tensor(10.1111)\n",
      "number of epoch 123 loss tensor(10.1104)\n",
      "number of epoch 124 loss tensor(10.1098)\n",
      "number of epoch 125 loss tensor(10.1092)\n",
      "number of epoch 126 loss tensor(10.1085)\n",
      "number of epoch 127 loss tensor(10.1079)\n",
      "number of epoch 128 loss tensor(10.1073)\n",
      "number of epoch 129 loss tensor(10.1067)\n",
      "number of epoch 130 loss tensor(10.1061)\n",
      "number of epoch 131 loss tensor(10.1055)\n",
      "number of epoch 132 loss tensor(10.1049)\n",
      "number of epoch 133 loss tensor(10.1044)\n",
      "number of epoch 134 loss tensor(10.1038)\n",
      "number of epoch 135 loss tensor(10.1032)\n",
      "number of epoch 136 loss tensor(10.1026)\n",
      "number of epoch 137 loss tensor(10.1021)\n",
      "number of epoch 138 loss tensor(10.1015)\n",
      "number of epoch 139 loss tensor(10.1010)\n",
      "number of epoch 140 loss tensor(10.1004)\n",
      "number of epoch 141 loss tensor(10.0999)\n",
      "number of epoch 142 loss tensor(10.0993)\n",
      "number of epoch 143 loss tensor(10.0988)\n",
      "number of epoch 144 loss tensor(10.0983)\n",
      "number of epoch 145 loss tensor(10.0977)\n",
      "number of epoch 146 loss tensor(10.0972)\n",
      "number of epoch 147 loss tensor(10.0967)\n",
      "number of epoch 148 loss tensor(10.0962)\n",
      "number of epoch 149 loss tensor(10.0957)\n"
     ]
    }
   ],
   "source": [
    "#training\n",
    "for epoch in range(150):\n",
    "    encoded, decoded = autoencoder(x_data)\n",
    "    \n",
    "    loss = loss_fun(decoded,x_data)\n",
    "    opt.zero_grad()\n",
    "    \n",
    "    loss.backward()\n",
    "    opt.step()     \n",
    "    \n",
    "\n",
    "    if epoch in range(150):\n",
    "        print('number of epoch', epoch, 'loss', loss.data)"
   ]
  },
  {
   "cell_type": "code",
   "execution_count": 8,
   "metadata": {},
   "outputs": [
    {
     "data": {
      "text/plain": [
       "AutoEncoder(\n",
       "  (encoder): Sequential(\n",
       "    (0): Linear(in_features=4, out_features=2, bias=True)\n",
       "    (1): Tanh()\n",
       "  )\n",
       "  (decoder): Sequential(\n",
       "    (0): Linear(in_features=2, out_features=4, bias=True)\n",
       "    (1): Tanh()\n",
       "  )\n",
       ")"
      ]
     },
     "execution_count": 8,
     "metadata": {},
     "output_type": "execute_result"
    }
   ],
   "source": [
    "autoencoder.train()"
   ]
  },
  {
   "cell_type": "code",
   "execution_count": 10,
   "metadata": {},
   "outputs": [
    {
     "data": {
      "text/plain": [
       "Text(0.5, 1.0, 'Latent space')"
      ]
     },
     "execution_count": 10,
     "metadata": {},
     "output_type": "execute_result"
    },
    {
     "data": {
      "image/png": "[encoded data removed]",
      "text/plain": [
       "<Figure size 432x288 with 1 Axes>"
      ]
     },
     "metadata": {
      "needs_background": "light"
     },
     "output_type": "display_data"
    }
   ],
   "source": [
    "import matplotlib.pyplot as plt\n",
    "%matplotlib inline\n",
    "\n",
    "data_array = encoded.detach().numpy()\n",
    "\n",
    "plt.scatter(data_array[:,0],data_array[:,1])\n",
    "plt.title(\"Latent space\")"
   ]
  }
 ],
 "metadata": {
  "kernelspec": {
   "display_name": "Python 3",
   "language": "python",
   "name": "python3"
  },
  "language_info": {
   "codemirror_mode": {
    "name": "ipython",
    "version": 3
   },
   "file_extension": ".py",
   "mimetype": "text/x-python",
   "name": "python",
   "nbconvert_exporter": "python",
   "pygments_lexer": "ipython3",
   "version": "3.7.4"
  }
 },
 "nbformat": 4,
 "nbformat_minor": 2
}
