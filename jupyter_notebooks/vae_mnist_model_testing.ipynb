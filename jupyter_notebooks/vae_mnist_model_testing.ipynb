{
 "cells": [
  {
   "cell_type": "code",
   "execution_count": 1,
   "metadata": {},
   "outputs": [],
   "source": [
    "import torch\n",
    "from torch import nn, cuda, optim, tensor\n",
    "from torch.nn import functional as F\n",
    "from torchvision import datasets, transforms\n",
    "from torchvision.utils import save_image"
   ]
  },
  {
   "cell_type": "code",
   "execution_count": 2,
   "metadata": {},
   "outputs": [],
   "source": [
    "class EncoderDecoder(nn.Module):\n",
    "    def __init__(self):\n",
    "        super(EncoderDecoder, self).__init__()\n",
    "        \n",
    "        # encoder part\n",
    "        self.fc1 = nn.Linear(784, 256)\n",
    "        #self.fc2 = nn.Linear(512, 256)\n",
    "        self.fc31 = nn.Linear(256, 2)\n",
    "        self.fc32 = nn.Linear(256, 2)\n",
    "        \n",
    "        # decoder part\n",
    "        self.fc4 = nn.Linear(2, 256)\n",
    "        #self.fc5 = nn.Linear(256, 512)\n",
    "        self.fc6 = nn.Linear(256, 784)\n",
    "        \n",
    "    def encoder(self, x):\n",
    "        # encode data points, and return posterior parameters for each point.\n",
    "        h = F.relu(self.fc1(x))\n",
    "        #h = F.relu(self.fc2(h))\n",
    "        return self.fc31(h), self.fc32(h)\n",
    "    \n",
    "    def reparameterize(self, mu, log_var):\n",
    "        # reparameterisation trick to sample z values\n",
    "        std = torch.exp(0.5*log_var)\n",
    "        eps = torch.randn_like(std)\n",
    "        return mu + eps*std \n",
    "        \n",
    "    def decoder(self, z):\n",
    "        # decode latent variables\n",
    "        h = F.relu(self.fc4(z))\n",
    "        #h = F.relu(self.fc5(h))\n",
    "        return torch.sigmoid(self.fc6(h)) \n",
    "    \n",
    "    def forward(self, x):\n",
    "        # encodes samples and then decodes them\n",
    "        mu, log_var = self.encoder(x.view(-1, 784))        \n",
    "        z = self.reparameterize(mu, log_var)\n",
    "        return self.decoder(z), mu, log_var"
   ]
  },
  {
   "cell_type": "code",
   "execution_count": 3,
   "metadata": {},
   "outputs": [],
   "source": [
    "class VAE:\n",
    "    \n",
    "    def loss_function(self, recon_x, x, mu, log_var):\n",
    "        # return reconstruction error + KL divergence losses\n",
    "        BCE = F.binary_cross_entropy(recon_x, x.view(-1, 784), reduction='sum')\n",
    "        KLD = -0.5 * torch.sum(1 + log_var - mu.pow(2) - log_var.exp())\n",
    "        return BCE + KLD\n",
    "    \n",
    "    def fn_train(self, data, num_epochs):\n",
    "\n",
    "        self.model = EncoderDecoder()\n",
    "        if torch.cuda.is_available():\n",
    "            self.model.cuda()\n",
    "\n",
    "        batch_size = 100\n",
    "        optimizer = optim.Adam(self.model.parameters(), lr=1e-3)\n",
    "\n",
    "        # train the model\n",
    "        for epoch in range(num_epochs):\n",
    "            for i in range(int(data.shape[0] / batch_size)):\n",
    "                batch = data[i * batch_size:(i + 1) * batch_size]\n",
    "                batch = tensor(batch, dtype=torch.float)\n",
    "                if cuda.is_available():\n",
    "                    batch = batch.cuda()      \n",
    "                optimizer.zero_grad()                \n",
    "                recon_batch, mu, log_var = self.model(batch)\n",
    "                loss = self.loss_function(recon_batch, batch, mu, log_var)\n",
    "                loss.backward()\n",
    "                optimizer.step()\n",
    "        data = tensor(data, dtype=torch.float)\n",
    "        if cuda.is_available():\n",
    "            data = data.cuda()\n",
    "        decoded, mu, log_var = self.model(data)\n",
    "        encoded = self.model.reparameterize(mu, log_var)\n",
    "        return encoded, decoded\n",
    "    \n",
    "    def data_projection(self, data):\n",
    "        decoded, mu, log_var = self.model(data)\n",
    "        encoded = self.model.reparameterize(mu, log_var)\n",
    "        with torch.no_grad():\n",
    "            z = torch.randn(64, 2).cuda()\n",
    "            sample = self.model.decoder(z).cpu()    \n",
    "            save_image(sample.view(64, 1, 28, 28), './results/sample_test' + '.png')\n",
    "        return encoded, decoded"
   ]
  },
  {
   "cell_type": "code",
   "execution_count": 4,
   "metadata": {
    "scrolled": true
   },
   "outputs": [
    {
     "name": "stdout",
     "output_type": "stream",
     "text": [
      "Start projection training\n",
      "Training done 9.22427196700005\n"
     ]
    }
   ],
   "source": [
    "import numpy as np\n",
    "import pandas as pd\n",
    "import math\n",
    "import timeit\n",
    "\n",
    "train_dataset = datasets.MNIST(root='../app/mnist_data/', train=True, transform=transforms.ToTensor(), download=True)\n",
    "train_loader = torch.utils.data.DataLoader(dataset=train_dataset, batch_size=1000000, shuffle=True, num_workers=1)         \n",
    "\n",
    "# number of epochs\n",
    "n_epochs = 1\n",
    "\n",
    "# train model\n",
    "vae = VAE()\n",
    "\n",
    "for data in train_loader:\n",
    "    data = data[0].numpy()\n",
    "    #data = data.reshape((data.shape[0], -1))\n",
    "    #data = data.astype(np.float32)\n",
    "    print('Start projection training')\n",
    "    start_time = timeit.default_timer()\n",
    "    encoded, decoded = vae.fn_train(data,  n_epochs)\n",
    "    print('Training done', timeit.default_timer() - start_time)\n",
    "    #print(encoded)"
   ]
  },
  {
   "cell_type": "markdown",
   "metadata": {},
   "source": [
    "### Latent Space Exploration"
   ]
  },
  {
   "cell_type": "code",
   "execution_count": 5,
   "metadata": {},
   "outputs": [],
   "source": [
    "# load one big batch for visualization\n",
    "train_loader_batch = torch.utils.data.DataLoader(dataset=train_dataset, \n",
    "                                            batch_size=10000, \n",
    "                                            shuffle=False)\n",
    "one_batch = next(iter(train_loader_batch))\n",
    "img, labels = one_batch\n",
    "images_flatten = img.view(img.size(0), -1)\n",
    "all_data = images_flatten.cuda()"
   ]
  },
  {
   "cell_type": "code",
   "execution_count": 6,
   "metadata": {},
   "outputs": [],
   "source": [
    "# get a latent space z\n",
    "encoded, decoded = vae.data_projection(all_data)\n",
    "z = encoded.detach().cpu().numpy()"
   ]
  },
  {
   "cell_type": "code",
   "execution_count": 6,
   "metadata": {},
   "outputs": [],
   "source": [
    "encoded_t = encoded[0:64]"
   ]
  },
  {
   "cell_type": "code",
   "execution_count": 7,
   "metadata": {},
   "outputs": [
    {
     "data": {
      "text/plain": [
       "torch.Size([64, 2])"
      ]
     },
     "execution_count": 7,
     "metadata": {},
     "output_type": "execute_result"
    }
   ],
   "source": [
    "encoded_t.shape"
   ]
  }
 ],
 "metadata": {
  "kernelspec": {
   "display_name": "Python 3",
   "language": "python",
   "name": "python3"
  },
  "language_info": {
   "codemirror_mode": {
    "name": "ipython",
    "version": 3
   },
   "file_extension": ".py",
   "mimetype": "text/x-python",
   "name": "python",
   "nbconvert_exporter": "python",
   "pygments_lexer": "ipython3",
   "version": "3.7.4"
  }
 },
 "nbformat": 4,
 "nbformat_minor": 2
}
